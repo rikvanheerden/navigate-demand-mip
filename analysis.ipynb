{
 "cells": [
  {
   "cell_type": "code",
   "execution_count": null,
   "metadata": {},
   "outputs": [],
   "source": [
    "import pyam\n",
    "import pandas as pd\n",
    "import plotting\n",
    "import readdata"
   ]
  },
  {
   "cell_type": "code",
   "execution_count": null,
   "metadata": {},
   "outputs": [],
   "source": [
    "# Select region here\n",
    "region = 'World'\n",
    "# region = 'Asian countries except Japan'\n",
    "# region = 'Countries of the Middle East and Africa'\n",
    "# region = 'Latin American countries'\n",
    "# region = 'OECD90 and EU (and EU candidate) countries'\n",
    "# region = 'Rest of the World (R5)'\n",
    "\n",
    "update_from_iiasadb = True # If False, then data is retreived from cache instead of databasa query\n",
    "\n",
    "df = readdata.read_iiasa(region=region, update=update_from_iiasadb)"
   ]
  },
  {
   "cell_type": "code",
   "execution_count": null,
   "metadata": {},
   "outputs": [],
   "source": [
    "variable = 'Final Energy|Residential and Commercial'\n",
    "\n",
    "scenario_type = ['act', 'tec'] # Scenario indicators: 'ref' / 'act' / 'ele' / 'tec' / 'all'\n",
    "scenario_target = ['15C', 'NPi'] # Climate target indicators: 'NPi' / '15C' / '20C'\n",
    "scenario_ctax = ['u'] # Include scenarios with global ('u') and/or differentiated ('d') carbon tax\n",
    "\n",
    "startyear = 1970 # Inital year for plotting\n",
    "endyear = 2050 # Final year for plotting\n",
    "\n",
    "color = 'scenario' # Color-coding by 'scenario' or 'model'\n",
    "use_markers = True"
   ]
  },
  {
   "cell_type": "code",
   "execution_count": null,
   "metadata": {},
   "outputs": [],
   "source": [
    "plotting.generate_plots(df, variable, (scenario_target, scenario_type, scenario_ctax), region, startyear, endyear, color, use_markers)"
   ]
  },
  {
   "cell_type": "code",
   "execution_count": null,
   "metadata": {},
   "outputs": [],
   "source": []
  }
 ],
 "metadata": {
  "kernelspec": {
   "display_name": "Python 3.10.6 ('iamc_env')",
   "language": "python",
   "name": "python3"
  },
  "language_info": {
   "codemirror_mode": {
    "name": "ipython",
    "version": 3
   },
   "file_extension": ".py",
   "mimetype": "text/x-python",
   "name": "python",
   "nbconvert_exporter": "python",
   "pygments_lexer": "ipython3",
   "version": "3.10.6"
  },
  "orig_nbformat": 4,
  "vscode": {
   "interpreter": {
    "hash": "ddb6e954aac158c61d0af939228528fc51fa65d636dd47ad2a760c087b0062ae"
   }
  }
 },
 "nbformat": 4,
 "nbformat_minor": 2
}
